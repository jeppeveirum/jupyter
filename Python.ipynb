{
 "cells": [
  {
   "cell_type": "markdown",
   "metadata": {},
   "source": [
    "# Python: Velkommen til Slytherin\n",
    "----\n",
    "##### Fag: Pro, pro, inf"
   ]
  },
  {
   "cell_type": "markdown",
   "metadata": {},
   "source": [
    "\n",
    "![title](images/python-logo.png)"
   ]
  },
  {
   "cell_type": "markdown",
   "metadata": {},
   "source": [
    "## Hvad er Python\n",
    "Forklar hvad Python er."
   ]
  },
  {
   "cell_type": "markdown",
   "metadata": {},
   "source": [
    "## Jupyter Notebook"
   ]
  },
  {
   "cell_type": "markdown",
   "metadata": {},
   "source": [
    "En Jupyter Notebook er en open-source web applikation der gør det muligt at lave og dele dokumenter der indeholder dynamisk live kode, formler, visualiseringer og forklarende tekst. Jupyter Notebooks bruges bl.a. inden for: data optimering og transformation, numerisk simulering, statistisk modellering, data visualisering, machine learning, og meget mere. Se et par eksempler neden for."
   ]
  },
  {
   "cell_type": "markdown",
   "metadata": {},
   "source": [
    "### Variabler"
   ]
  },
  {
   "cell_type": "markdown",
   "metadata": {},
   "source": [
    "Variabler er en af hjørnestenene i alle programmeringssprog. Variabler bruges til at holde forskellige former for data. Når man snakker data indenfor programmering er der tale om en slags tilføjelse til data eller udspecificering. Dette skyldes at den oversætter, også kaldet en *compiler*, der oversætter det programmeringssprog vi skriver til et computeren kan forstå har brug for lidt ekstra hjælp til at oversætte vores programmeringssprog korrekt. Det kan f.eks. være heltal, kommatal, tekst, boolske udtryk, m.fl."
   ]
  },
  {
   "cell_type": "markdown",
   "metadata": {},
   "source": [
    "#### Deklerering\n",
    "For at oprette en variabel eller i programeringstermer *deklerere* en variabel skal vi bruge et navn. En variabel kan opfattes som en beholder f.eks. en spand der kan indeholde data eller vand."
   ]
  },
  {
   "cell_type": "code",
   "execution_count": 7,
   "metadata": {},
   "outputs": [],
   "source": [
    "a = 3"
   ]
  },
  {
   "cell_type": "markdown",
   "metadata": {},
   "source": [
    "Nu har vi deklereret en variabel. Vi har givet den navnet *a* og værdien *3*.  "
   ]
  },
  {
   "cell_type": "code",
   "execution_count": 8,
   "metadata": {},
   "outputs": [],
   "source": [
    "enVariabel = \"hej\"\n",
    "enAndenVariabel = 2.5\n",
    "enTredjeVariabel = \"Noget tekst\"\n",
    "enFjerdeVariabel = True"
   ]
  },
  {
   "cell_type": "code",
   "execution_count": 9,
   "metadata": {},
   "outputs": [
    {
     "name": "stdout",
     "output_type": "stream",
     "text": [
      "<class 'str'> <class 'float'> <class 'str'> <class 'bool'>\n"
     ]
    }
   ],
   "source": [
    "print(type(enVariabel),type(enAndenVariabel),type(enTredjeVariabel),type(enFjerdeVariabel))"
   ]
  },
  {
   "cell_type": "markdown",
   "metadata": {},
   "source": [
    "\\begin{equation*}\n",
    "a^2+b^2 = c^2\n",
    "\\end{equation*}"
   ]
  },
  {
   "cell_type": "code",
   "execution_count": 10,
   "metadata": {},
   "outputs": [],
   "source": [
    "# Vi kan bruge funktionen type() til at fortælle os hvilken data type Python har kategoriseret den til"
   ]
  },
  {
   "cell_type": "markdown",
   "metadata": {},
   "source": [
    "\\begin{equation*}\n",
    "K = K_0(1+R)^n\n",
    "\\end{equation*}"
   ]
  },
  {
   "cell_type": "code",
   "execution_count": 11,
   "metadata": {},
   "outputs": [
    {
     "name": "stdout",
     "output_type": "stream",
     "text": [
      "Vil du +, -, *, /: \n",
      "Indtast et tal: \n"
     ]
    },
    {
     "ename": "ValueError",
     "evalue": "invalid literal for int() with base 10: ''",
     "output_type": "error",
     "traceback": [
      "\u001b[0;31m---------------------------------------------------------------------------\u001b[0m",
      "\u001b[0;31mValueError\u001b[0m                                Traceback (most recent call last)",
      "\u001b[0;32m<ipython-input-11-bdaa99b75f0d>\u001b[0m in \u001b[0;36m<module>\u001b[0;34m\u001b[0m\n\u001b[1;32m      2\u001b[0m \u001b[0;34m\u001b[0m\u001b[0m\n\u001b[1;32m      3\u001b[0m \u001b[0;31m#Det er vigtigt at vide at indput returnerer en 'str' altså tekst.\u001b[0m\u001b[0;34m\u001b[0m\u001b[0;34m\u001b[0m\u001b[0;34m\u001b[0m\u001b[0m\n\u001b[0;32m----> 4\u001b[0;31m \u001b[0ma\u001b[0m \u001b[0;34m=\u001b[0m \u001b[0mint\u001b[0m\u001b[0;34m(\u001b[0m\u001b[0minput\u001b[0m\u001b[0;34m(\u001b[0m\u001b[0;34m\"Indtast et tal: \"\u001b[0m\u001b[0;34m)\u001b[0m\u001b[0;34m)\u001b[0m\u001b[0;34m\u001b[0m\u001b[0;34m\u001b[0m\u001b[0m\n\u001b[0m\u001b[1;32m      5\u001b[0m \u001b[0mb\u001b[0m \u001b[0;34m=\u001b[0m \u001b[0mint\u001b[0m\u001b[0;34m(\u001b[0m\u001b[0minput\u001b[0m\u001b[0;34m(\u001b[0m\u001b[0;34m\"Indtast et tal: \"\u001b[0m\u001b[0;34m)\u001b[0m\u001b[0;34m)\u001b[0m\u001b[0;34m\u001b[0m\u001b[0;34m\u001b[0m\u001b[0m\n\u001b[1;32m      6\u001b[0m \u001b[0;34m\u001b[0m\u001b[0m\n",
      "\u001b[0;31mValueError\u001b[0m: invalid literal for int() with base 10: ''"
     ]
    }
   ],
   "source": [
    "slags = input(\"Vil du +, -, *, /: \")\n",
    "\n",
    "#Det er vigtigt at vide at indput returnerer en 'str' altså tekst.\n",
    "a = int(input(\"Indtast et tal: \"))\n",
    "b = int(input(\"Indtast et tal: \"))\n",
    "\n",
    "if slags == \"+\":\n",
    "    resultat = a + b\n",
    "elif slags == \"-\":\n",
    "    resultat = a - b\n",
    "elif slags == \"*\":\n",
    "    resultat = a * b\n",
    "elif slags == \"/\":\n",
    "    resultat = a / b\n",
    "    \n",
    "resultat\n"
   ]
  },
  {
   "cell_type": "code",
   "execution_count": null,
   "metadata": {},
   "outputs": [],
   "source": [
    "resultat\n"
   ]
  },
  {
   "cell_type": "markdown",
   "metadata": {},
   "source": [
    "## Data opsamling\n",
    "Introduktion til Micro:Bit og hvordan man kan opsamle data med den indbyggede sensorer og gemme det på en fil som vi kan lavbe datavisualisering på\n"
   ]
  },
  {
   "cell_type": "code",
   "execution_count": null,
   "metadata": {},
   "outputs": [],
   "source": []
  }
 ],
 "metadata": {
  "kernelspec": {
   "display_name": "Python 3",
   "language": "python",
   "name": "python3"
  },
  "language_info": {
   "codemirror_mode": {
    "name": "ipython",
    "version": 3
   },
   "file_extension": ".py",
   "mimetype": "text/x-python",
   "name": "python",
   "nbconvert_exporter": "python",
   "pygments_lexer": "ipython3",
   "version": "3.7.2"
  }
 },
 "nbformat": 4,
 "nbformat_minor": 2
}
